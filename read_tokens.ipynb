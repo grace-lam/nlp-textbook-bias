{
 "cells": [
  {
   "cell_type": "code",
   "execution_count": null,
   "id": "adjacent-withdrawal",
   "metadata": {},
   "outputs": [],
   "source": [
    "import os"
   ]
  },
  {
   "cell_type": "code",
   "execution_count": null,
   "id": "periodic-combining",
   "metadata": {},
   "outputs": [],
   "source": [
    "tokens_directory = 'final_textbook_contexts/512_tokens/'\n",
    "directory = os.fsencode(tokens_directory)"
   ]
  },
  {
   "cell_type": "code",
   "execution_count": null,
   "id": "moving-isaac",
   "metadata": {},
   "outputs": [],
   "source": [
    "for year_folder in os.listdir(directory):\n",
    "    year_txt = os.fsdecode(year_folder) # [year].txt\n",
    "    year = year_txt[:-4] # [year]\n",
    "    subdir_name = tokens_directory + year_txt + '/'\n",
    "    subdir = os.fsencode(subdir_name)\n",
    "    for file in os.listdir(subdir):\n",
    "        filename = os.fsdecode(file)\n",
    "        with open(subdir_name + filename, 'r') as tokens_reader:\n",
    "            all_lines = tokens_reader.readlines()\n",
    "            if all_lines != '[]':\n",
    "                print(all_lines)\n",
    "    break"
   ]
  }
 ],
 "metadata": {
  "kernelspec": {
   "display_name": "Python 3",
   "language": "python",
   "name": "python3"
  },
  "language_info": {
   "codemirror_mode": {
    "name": "ipython",
    "version": 3
   },
   "file_extension": ".py",
   "mimetype": "text/x-python",
   "name": "python",
   "nbconvert_exporter": "python",
   "pygments_lexer": "ipython3",
   "version": "3.7.5"
  }
 },
 "nbformat": 4,
 "nbformat_minor": 5
}
