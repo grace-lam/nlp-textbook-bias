{
 "cells": [
  {
   "cell_type": "code",
   "execution_count": 1,
   "id": "worth-juice",
   "metadata": {},
   "outputs": [],
   "source": [
    "from textbook_analysis.helpers import *\n",
    "import nltk\n",
    "import random"
   ]
  },
  {
   "cell_type": "code",
   "execution_count": 2,
   "id": "serial-terror",
   "metadata": {},
   "outputs": [],
   "source": [
    "def get_sentences(book, remove_stopwords=False, remove_numeric=False, remove_short=False):\n",
    "    sents = nltk.sent_tokenize(book)\n",
    "    return [' '.join(clean_text(s, remove_stopwords=remove_stopwords, remove_numeric=remove_numeric, remove_short=remove_short)) for s in sents]"
   ]
  },
  {
   "cell_type": "code",
   "execution_count": 3,
   "id": "comfortable-requirement",
   "metadata": {},
   "outputs": [],
   "source": [
    "def generate_bert_input_file(books, bert_input_file):\n",
    "    # Combine all books into a line-by-line dataset for BERT\n",
    "    # 1. Segment each book into sentences and tokenize \n",
    "    # 2. Clean tokens and add the line (sentence)\n",
    "    print(\"Generating BERT input dataset file...\")\n",
    "    file = open(bert_input_file,\"w\")\n",
    "    lines = []\n",
    "    \n",
    "    for title, book in books.items():\n",
    "        for sent in get_sentences(book):\n",
    "            if len(sent) >= 10:\n",
    "                lines.extend([sent + '.\\n'])\n",
    "        lines.extend(['\\n'])\n",
    "        \n",
    "    file.writelines(lines)\n",
    "    file.close()\n",
    "    return lines"
   ]
  },
  {
   "cell_type": "code",
   "execution_count": 4,
   "id": "broadband-capability",
   "metadata": {},
   "outputs": [],
   "source": [
    "def split_books_into_chapters(books):\n",
    "    # Create dict mapping books to list of chapters\n",
    "    book_chapters = dict()\n",
    "    for b in books:\n",
    "        text = books[b].lower()\n",
    "        book_chapters[b] = []\n",
    "        is_first_chunk = True\n",
    "        while True:\n",
    "            idx = text.find('chapter')\n",
    "            prefix = '' if is_first_chunk else 'chapter'\n",
    "            if idx == -1:\n",
    "                book_chapters[b].append(prefix+text)\n",
    "                break\n",
    "            book_chapters[b].append(prefix+text[:idx])\n",
    "            text = text[idx+7:]\n",
    "            if is_first_chunk:\n",
    "                is_first_chunk = False\n",
    "    return book_chapters"
   ]
  },
  {
   "cell_type": "code",
   "execution_count": 5,
   "id": "noticed-decrease",
   "metadata": {},
   "outputs": [],
   "source": [
    "def combine_chapters_into_single_text(book_chapters):\n",
    "    # Combine list of chapters into single string of text per book\n",
    "    book_text = dict()\n",
    "    for b, chapters in book_chapters.items():\n",
    "        book_text[b] = ''.join(chapters)\n",
    "    return book_text"
   ]
  },
  {
   "cell_type": "markdown",
   "id": "ecological-color",
   "metadata": {},
   "source": [
    "### Read in all textbook data & split into chapters"
   ]
  },
  {
   "cell_type": "code",
   "execution_count": 6,
   "id": "grand-blackjack",
   "metadata": {},
   "outputs": [
    {
     "name": "stdout",
     "output_type": "stream",
     "text": [
      "Getting books...\n",
      "America_A_Narrative_History_WWNorton_10th\n",
      "America_Past_And_Present_Pearson_10th\n",
      "Americas_History_Bedford_8th\n",
      "Give_Me_Liberty_An_American_History_WWNorton_3rd\n",
      "The_American_Pageant_Cengage_14th\n",
      "The_Unfinished_Nation_A_Concise_History_of_the_American_People_McGraw-Hill_8th\n",
      "Visions_of_America_A_History_of_the_United_States_Pearson_2nd\n",
      "american_history_connecting_with_the_past\n",
      "by_the_people\n",
      "history_alive_united_states_thru_industrialism\n",
      "hmh_the_americans_us_history_since_1877\n",
      "mastering_the_teks\n",
      "pearson_us_history\n",
      "teks_us_history\n",
      "us_history_early_colonial_period_through_reconstruction\n",
      "Finished getting books.\n"
     ]
    }
   ],
   "source": [
    "input_dir = 'final_textbook_txts'\n",
    "books = get_book_txts(input_dir, splitlines=False)"
   ]
  },
  {
   "cell_type": "code",
   "execution_count": 7,
   "id": "coordinate-favor",
   "metadata": {},
   "outputs": [],
   "source": [
    "book_chapters = split_books_into_chapters(books)"
   ]
  },
  {
   "cell_type": "markdown",
   "id": "worth-problem",
   "metadata": {},
   "source": [
    "### Generate training file with ALL textbook data"
   ]
  },
  {
   "cell_type": "code",
   "execution_count": null,
   "id": "adolescent-fever",
   "metadata": {},
   "outputs": [],
   "source": [
    "bert_input_file = 'all_textbook_data.txt'\n",
    "lines = generate_bert_input_file(books, bert_input_file)"
   ]
  },
  {
   "cell_type": "code",
   "execution_count": null,
   "id": "defensive-passing",
   "metadata": {},
   "outputs": [],
   "source": [
    "print(len(lines))"
   ]
  },
  {
   "cell_type": "markdown",
   "id": "lovely-poker",
   "metadata": {},
   "source": [
    "### Generate 80-20 train-eval split"
   ]
  },
  {
   "cell_type": "code",
   "execution_count": null,
   "id": "coastal-series",
   "metadata": {},
   "outputs": [],
   "source": [
    "# Randomly split chapters into 80-20 train-eval for each book\n",
    "book_chapters_train = dict()\n",
    "book_chapters_eval = dict()\n",
    "for b, chapters in book_chapters.items():\n",
    "    n_ch = len(chapters)\n",
    "    all_ch_idx = set(range(n_ch))\n",
    "    eval_ch_idx = set(random.sample(all_ch_idx, int(n_ch*0.2)))\n",
    "    train_ch_idx = all_ch_idx - eval_ch_idx\n",
    "    \n",
    "    book_chapters_train[b] = [chapters[ch] for ch in sorted(train_ch_idx)]\n",
    "    book_chapters_eval[b] = [chapters[ch] for ch in sorted(eval_ch_idx)]"
   ]
  },
  {
   "cell_type": "code",
   "execution_count": null,
   "id": "departmental-storage",
   "metadata": {},
   "outputs": [],
   "source": [
    "# Combine list of chapters into single string of text per book\n",
    "train_books = combine_chapters_into_single_text(book_chapters_train)\n",
    "eval_books = combine_chapters_into_single_text(book_chapters_eval)"
   ]
  },
  {
   "cell_type": "code",
   "execution_count": null,
   "id": "appointed-vatican",
   "metadata": {},
   "outputs": [],
   "source": [
    "# Create line-by-line train & eval txt files\n",
    "train_input_file = 'train_textbook_data.txt'\n",
    "eval_input_file = 'eval_textbook_data.txt'\n",
    "\n",
    "train_lines = generate_bert_input_file(train_books, train_input_file)\n",
    "eval_lines = generate_bert_input_file(eval_books, eval_input_file)"
   ]
  },
  {
   "cell_type": "code",
   "execution_count": null,
   "id": "chubby-pressing",
   "metadata": {},
   "outputs": [],
   "source": [
    "print(len(train_lines))\n",
    "print(len(eval_lines))"
   ]
  },
  {
   "cell_type": "markdown",
   "id": "victorian-prescription",
   "metadata": {},
   "source": [
    "### Generate 80-10-10 train-dev-test split"
   ]
  },
  {
   "cell_type": "code",
   "execution_count": 8,
   "id": "appreciated-print",
   "metadata": {},
   "outputs": [],
   "source": [
    "# Randomly split chapters into 80-10-10 train-dev-test for each book\n",
    "book_chapters_train = dict()\n",
    "book_chapters_dev = dict()\n",
    "book_chapters_test = dict()\n",
    "for b, chapters in book_chapters.items():\n",
    "    n_ch = len(chapters)\n",
    "    all_ch_idx = set(range(n_ch))\n",
    "    test_ch_idx = set(random.sample(all_ch_idx, int(n_ch*0.1)))\n",
    "    dev_ch_idx = set(random.sample(all_ch_idx - test_ch_idx, int(n_ch*0.1)))\n",
    "    train_ch_idx = all_ch_idx - dev_ch_idx - test_ch_idx\n",
    "    \n",
    "    book_chapters_train[b] = [chapters[ch] for ch in sorted(train_ch_idx)]\n",
    "    book_chapters_dev[b] = [chapters[ch] for ch in sorted(dev_ch_idx)]\n",
    "    book_chapters_test[b] = [chapters[ch] for ch in sorted(test_ch_idx)]"
   ]
  },
  {
   "cell_type": "code",
   "execution_count": 9,
   "id": "narrative-civilian",
   "metadata": {},
   "outputs": [],
   "source": [
    "# Combine list of chapters into single string of text per book\n",
    "train_books = combine_chapters_into_single_text(book_chapters_train)\n",
    "dev_books = combine_chapters_into_single_text(book_chapters_dev)\n",
    "test_books = combine_chapters_into_single_text(book_chapters_test)"
   ]
  },
  {
   "cell_type": "code",
   "execution_count": 11,
   "id": "regulation-creature",
   "metadata": {},
   "outputs": [
    {
     "name": "stdout",
     "output_type": "stream",
     "text": [
      "Generating BERT input dataset file...\n",
      "Generating BERT input dataset file...\n",
      "Generating BERT input dataset file...\n"
     ]
    }
   ],
   "source": [
    "# Create line-by-line train, dev, & test txt files\n",
    "train_input_file = 'data/80_10_10/train_textbook_data.txt'\n",
    "dev_input_file = 'data/80_10_10/dev_textbook_data.txt'\n",
    "test_input_file = 'data/80_10_10/test_textbook_data.txt'\n",
    "\n",
    "train = generate_bert_input_file(train_books, train_input_file)\n",
    "dev = generate_bert_input_file(dev_books, dev_input_file)\n",
    "test = generate_bert_input_file(test_books, test_input_file)"
   ]
  },
  {
   "cell_type": "code",
   "execution_count": 12,
   "id": "legendary-salad",
   "metadata": {},
   "outputs": [
    {
     "name": "stdout",
     "output_type": "stream",
     "text": [
      "244040\n",
      "24851\n",
      "28231\n"
     ]
    }
   ],
   "source": [
    "print(len(train))\n",
    "print(len(dev))\n",
    "print(len(test))"
   ]
  },
  {
   "cell_type": "code",
   "execution_count": 15,
   "id": "black-customer",
   "metadata": {},
   "outputs": [
    {
     "name": "stdout",
     "output_type": "stream",
     "text": [
      "717 America_A_Narrative_History_WWNorton_10th\n",
      "513 America_Past_And_Present_Pearson_10th\n",
      "930 Americas_History_Bedford_8th\n",
      "132 Give_Me_Liberty_An_American_History_WWNorton_3rd\n",
      "541 The_American_Pageant_Cengage_14th\n",
      "309 The_Unfinished_Nation_A_Concise_History_of_the_American_People_McGraw-Hill_8th\n",
      "800 Visions_of_America_A_History_of_the_United_States_Pearson_2nd\n",
      "337 american_history_connecting_with_the_past\n",
      "674 by_the_people\n",
      "315 history_alive_united_states_thru_industrialism\n",
      "572 hmh_the_americans_us_history_since_1877\n",
      "342 mastering_the_teks\n",
      "5 pearson_us_history\n",
      "169 teks_us_history\n",
      "504 us_history_early_colonial_period_through_reconstruction\n"
     ]
    }
   ],
   "source": [
    "for b, chapters in book_chapters.items():\n",
    "    print(len(chapters), b)"
   ]
  },
  {
   "cell_type": "code",
   "execution_count": null,
   "id": "optimum-environment",
   "metadata": {},
   "outputs": [],
   "source": []
  }
 ],
 "metadata": {
  "kernelspec": {
   "display_name": "Python 3",
   "language": "python",
   "name": "python3"
  },
  "language_info": {
   "codemirror_mode": {
    "name": "ipython",
    "version": 3
   },
   "file_extension": ".py",
   "mimetype": "text/x-python",
   "name": "python",
   "nbconvert_exporter": "python",
   "pygments_lexer": "ipython3",
   "version": "3.7.5"
  }
 },
 "nbformat": 4,
 "nbformat_minor": 5
}
