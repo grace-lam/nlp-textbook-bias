{
 "cells": [
  {
   "cell_type": "code",
   "execution_count": 1,
   "id": "worth-juice",
   "metadata": {},
   "outputs": [],
   "source": [
    "from textbook_analysis.helpers import *\n",
    "import nltk"
   ]
  },
  {
   "cell_type": "code",
   "execution_count": 2,
   "id": "common-unknown",
   "metadata": {},
   "outputs": [],
   "source": [
    "input_dir = 'final_textbook_txts'\n",
    "bert_input_file = 'all_textbook_data.txt'"
   ]
  },
  {
   "cell_type": "code",
   "execution_count": 3,
   "id": "serial-terror",
   "metadata": {},
   "outputs": [],
   "source": [
    "def get_sentences(book, remove_stopwords=False, remove_numeric=False, remove_short=False):\n",
    "    sents = nltk.sent_tokenize(book)\n",
    "    return [' '.join(clean_text(s, remove_stopwords=remove_stopwords, remove_numeric=remove_numeric, remove_short=remove_short)) for s in sents]"
   ]
  },
  {
   "cell_type": "code",
   "execution_count": 4,
   "id": "comfortable-requirement",
   "metadata": {},
   "outputs": [],
   "source": [
    "def generate_bert_input_file(books, bert_input_file):\n",
    "    # Combine all books into a line-by-line dataset for BERT\n",
    "    print(\"Generating BERT input dataset file...\")\n",
    "    file = open(bert_input_file,\"w\")\n",
    "    lines = []\n",
    "    \n",
    "    for title, book in books.items():\n",
    "        for sent in get_sentences(book):\n",
    "            if len(sent) >= 10:\n",
    "                lines.extend([sent + '.\\n'])\n",
    "        lines.extend(['\\n'])\n",
    "        \n",
    "    file.writelines(lines)\n",
    "    file.close()\n",
    "    return lines"
   ]
  },
  {
   "cell_type": "code",
   "execution_count": 5,
   "id": "grand-blackjack",
   "metadata": {},
   "outputs": [
    {
     "name": "stdout",
     "output_type": "stream",
     "text": [
      "Getting books...\n",
      "America_A_Narrative_History_WWNorton_10th\n",
      "America_Past_And_Present_Pearson_10th\n",
      "Americas_History_Bedford_8th\n",
      "Give_Me_Liberty_An_American_History_WWNorton_3rd\n",
      "The_American_Pageant_Cengage_14th\n",
      "The_Unfinished_Nation_A_Concise_History_of_the_American_People_McGraw-Hill_8th\n",
      "Visions_of_America_A_History_of_the_United_States_Pearson_2nd\n",
      "american_history_connecting_with_the_past\n",
      "by_the_people\n",
      "history_alive_united_states_thru_industrialism\n",
      "hmh_the_americans_us_history_since_1877\n",
      "mastering_the_teks\n",
      "pearson_us_history\n",
      "teks_us_history\n",
      "us_history_early_colonial_period_through_reconstruction\n",
      "Finished getting books.\n",
      "Generating BERT input dataset file...\n"
     ]
    }
   ],
   "source": [
    "books = get_book_txts(input_dir, splitlines=False)\n",
    "lines = generate_bert_input_file(books, bert_input_file)"
   ]
  },
  {
   "cell_type": "code",
   "execution_count": 6,
   "id": "defensive-passing",
   "metadata": {},
   "outputs": [
    {
     "data": {
      "text/plain": [
       "310000"
      ]
     },
     "execution_count": 6,
     "metadata": {},
     "output_type": "execute_result"
    }
   ],
   "source": [
    "len(lines)"
   ]
  },
  {
   "cell_type": "code",
   "execution_count": 31,
   "id": "coordinate-favor",
   "metadata": {},
   "outputs": [],
   "source": [
    "book_chapters = dict()\n",
    "for b in books:\n",
    "    text = books[b].lower()\n",
    "    book_chapters[b] = []\n",
    "    is_first_chunk = True\n",
    "    while True:\n",
    "        idx = text.find('chapter')\n",
    "        prefix = '' if is_first_chunk else 'chapter'\n",
    "        if idx == -1:\n",
    "            book_chapters[b].append(prefix+text)\n",
    "            break\n",
    "        book_chapters[b].append(prefix+text[:idx])\n",
    "        text = text[idx+7:]\n",
    "        if is_first_chunk:\n",
    "            is_first_chunk = False"
   ]
  },
  {
   "cell_type": "code",
   "execution_count": 33,
   "id": "coastal-series",
   "metadata": {},
   "outputs": [],
   "source": [
    "import random\n",
    "\n",
    "book_chapters_train = dict()\n",
    "book_chapters_eval = dict()\n",
    "for b, chapters in book_chapters.items():\n",
    "    n_ch = len(chapters)\n",
    "    all_ch_idx = set(range(n_ch))\n",
    "    eval_ch_idx = set(random.sample(all_ch_idx, int(n_ch*0.2)))\n",
    "    train_ch_idx = all_ch_idx - eval_ch_idx\n",
    "    \n",
    "    book_chapters_train[b] = [chapters[ch] for ch in list(train_ch_idx)]\n",
    "    book_chapters_eval[b] = [chapters[ch] for ch in list(eval_ch_idx)]"
   ]
  },
  {
   "cell_type": "code",
   "execution_count": 41,
   "id": "departmental-storage",
   "metadata": {},
   "outputs": [],
   "source": [
    "train_books = dict()\n",
    "eval_books = dict()\n",
    "for b in book_chapters_train:\n",
    "    train_chapters = book_chapters_train[b]\n",
    "    eval_chapters = book_chapters_eval[b]\n",
    "    train_books[b] = ''.join(train_chapters)\n",
    "    eval_books[b] = ''.join(eval_chapters)"
   ]
  },
  {
   "cell_type": "code",
   "execution_count": 44,
   "id": "olympic-copying",
   "metadata": {},
   "outputs": [],
   "source": [
    "train_input_file = 'train_textbook_data.txt'\n",
    "eval_input_file = 'eval_textbook_data.txt'"
   ]
  },
  {
   "cell_type": "code",
   "execution_count": 45,
   "id": "headed-controversy",
   "metadata": {},
   "outputs": [
    {
     "name": "stdout",
     "output_type": "stream",
     "text": [
      "Generating BERT input dataset file...\n"
     ]
    }
   ],
   "source": [
    "train_lines = generate_bert_input_file(train_books, train_input_file)"
   ]
  },
  {
   "cell_type": "code",
   "execution_count": 46,
   "id": "purple-modem",
   "metadata": {},
   "outputs": [
    {
     "data": {
      "text/plain": [
       "242155"
      ]
     },
     "execution_count": 46,
     "metadata": {},
     "output_type": "execute_result"
    }
   ],
   "source": [
    "len(train_lines)"
   ]
  },
  {
   "cell_type": "code",
   "execution_count": 47,
   "id": "consolidated-output",
   "metadata": {},
   "outputs": [
    {
     "name": "stdout",
     "output_type": "stream",
     "text": [
      "Generating BERT input dataset file...\n"
     ]
    }
   ],
   "source": [
    "eval_lines = generate_bert_input_file(eval_books, eval_input_file)"
   ]
  },
  {
   "cell_type": "code",
   "execution_count": 48,
   "id": "western-tunnel",
   "metadata": {},
   "outputs": [
    {
     "data": {
      "text/plain": [
       "54960"
      ]
     },
     "execution_count": 48,
     "metadata": {},
     "output_type": "execute_result"
    }
   ],
   "source": [
    "len(eval_lines)"
   ]
  },
  {
   "cell_type": "code",
   "execution_count": 49,
   "id": "adjacent-coach",
   "metadata": {},
   "outputs": [
    {
     "data": {
      "text/plain": [
       "297115"
      ]
     },
     "execution_count": 49,
     "metadata": {},
     "output_type": "execute_result"
    }
   ],
   "source": [
    "len(train_lines)+len(eval_lines)"
   ]
  }
 ],
 "metadata": {
  "kernelspec": {
   "display_name": "Python 3",
   "language": "python",
   "name": "python3"
  },
  "language_info": {
   "codemirror_mode": {
    "name": "ipython",
    "version": 3
   },
   "file_extension": ".py",
   "mimetype": "text/x-python",
   "name": "python",
   "nbconvert_exporter": "python",
   "pygments_lexer": "ipython3",
   "version": "3.7.5"
  }
 },
 "nbformat": 4,
 "nbformat_minor": 5
}
