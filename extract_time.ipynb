{
 "cells": [
  {
   "cell_type": "code",
   "execution_count": 1,
   "id": "decreased-advance",
   "metadata": {},
   "outputs": [],
   "source": [
    "import os\n",
    "import re\n",
    "import numpy as np"
   ]
  },
  {
   "cell_type": "code",
   "execution_count": 2,
   "id": "spatial-medicine",
   "metadata": {},
   "outputs": [],
   "source": [
    "from textbook_analysis.helpers import *\n",
    "import nltk\n",
    "\n",
    "def get_sentences(book, remove_stopwords=False, remove_numeric=False, remove_short=False):\n",
    "    sents = nltk.sent_tokenize(book)\n",
    "    return [' '.join(clean_text(s, remove_stopwords=remove_stopwords, remove_numeric=remove_numeric, remove_short=remove_short)) for s in sents]"
   ]
  },
  {
   "cell_type": "code",
   "execution_count": 3,
   "id": "toxic-lexington",
   "metadata": {},
   "outputs": [],
   "source": [
    "chapters_directory = 'final_textbook_chapters/'\n",
    "years_directory = 'final_textbook_years/'\n",
    "directory = os.fsencode(chapters_directory)"
   ]
  },
  {
   "cell_type": "code",
   "execution_count": 4,
   "id": "downtown-teddy",
   "metadata": {},
   "outputs": [],
   "source": [
    "year_range_regex = re.compile(r'[12][0-9][0-9][0-9][-–][12][0-9][0-9][0-9]')\n",
    "present_range_regex = re.compile(r'[12][0-9][0-9][0-9][-–]\\bPresent\\b')\n",
    "year_regex = re.compile(r'[12][0-9][0-9][0-9]')"
   ]
  },
  {
   "cell_type": "code",
   "execution_count": 5,
   "id": "northern-reply",
   "metadata": {},
   "outputs": [],
   "source": [
    "year_to_chapters = dict()\n",
    "for year in range(1300, 2020, 50):\n",
    "    year_to_chapters[year] = []\n",
    "    os.makedirs(years_directory + str(year), exist_ok=True)"
   ]
  },
  {
   "cell_type": "code",
   "execution_count": 6,
   "id": "female-vault",
   "metadata": {},
   "outputs": [
    {
     "data": {
      "text/plain": [
       "{1300: [],\n",
       " 1350: [],\n",
       " 1400: [],\n",
       " 1450: [],\n",
       " 1500: [],\n",
       " 1550: [],\n",
       " 1600: [],\n",
       " 1650: [],\n",
       " 1700: [],\n",
       " 1750: [],\n",
       " 1800: [],\n",
       " 1850: [],\n",
       " 1900: [],\n",
       " 1950: [],\n",
       " 2000: []}"
      ]
     },
     "execution_count": 6,
     "metadata": {},
     "output_type": "execute_result"
    }
   ],
   "source": [
    "year_to_chapters"
   ]
  },
  {
   "cell_type": "code",
   "execution_count": 7,
   "id": "scientific-module",
   "metadata": {},
   "outputs": [],
   "source": [
    "chapter_start_lines = 5\n",
    "\n",
    "for title in os.listdir(directory):\n",
    "    title_name = os.fsdecode(title)\n",
    "    subdir_name = chapters_directory + title_name + '/'\n",
    "    subdir = os.fsencode(subdir_name)\n",
    "    for file in os.listdir(subdir):\n",
    "        filename = os.fsdecode(file)\n",
    "        with open(subdir_name + filename, 'r') as textbook_reader:\n",
    "            # 1. Find the average year mentioned in the chapter\n",
    "            years = []\n",
    "            avg_year = None\n",
    "            line_count = 1\n",
    "            all_lines = textbook_reader.readlines()\n",
    "            for line in all_lines:\n",
    "                if line_count <= chapter_start_lines: # check for year range in start of chapter\n",
    "                    present_range = present_range_regex.search(line) # set avg_year to 2000 if <year>-Present is found\n",
    "                    if present_range:\n",
    "                        avg_year = 2000\n",
    "                        break\n",
    "                    year_range = year_range_regex.search(line)\n",
    "                    if year_range: # set avg_year to average of year range found\n",
    "                        start_year = int(year_range.group()[:4])\n",
    "                        end_year = int(year_range.group()[5:])\n",
    "                        avg_year = (start_year + end_year)/2\n",
    "                        break\n",
    "                else: # otherwise, add any year to list to be averaged\n",
    "                    year_range = year_range_regex.search(line)\n",
    "                    if year_range:\n",
    "                        start_year = int(year_range.group()[:4])\n",
    "                        end_year = int(year_range.group()[5:])\n",
    "                        years.append((start_year + end_year)/2)\n",
    "                    else:\n",
    "                        year = year_regex.search(line)\n",
    "                        # avoid adding page numbers\n",
    "                        if year and line.split()[0] != year.group() and 'chapter' not in line.lower():\n",
    "                            years.append(int(year.group()))\n",
    "                line_count += 1\n",
    "            if not avg_year:\n",
    "                avg_year = np.median(years)\n",
    "                \n",
    "            # 2. Determine which bucket the average year falls in\n",
    "            century = int(avg_year // 100 * 100)\n",
    "            half_century = 50 if avg_year % 100 > 50 else 0\n",
    "            bucket_year = century + half_century\n",
    "            \n",
    "            # 3. Write chapter text into years_directory --> bucket_year --> textbook_name\n",
    "            with open(years_directory + str(bucket_year) + '/' + title_name + \".txt\", 'a') as textbook_writer:\n",
    "                lines = []\n",
    "                text = '\\n'.join(all_lines)\n",
    "\n",
    "                for sent in get_sentences(text):\n",
    "                    if len(sent) >= 10:\n",
    "                        lines.extend([sent + '.\\n'])\n",
    "\n",
    "                textbook_writer.writelines(lines)\n",
    "                    \n",
    "            year_to_chapters[bucket_year].append('\\n'.join(all_lines))"
   ]
  },
  {
   "cell_type": "code",
   "execution_count": 8,
   "id": "occupied-ordinary",
   "metadata": {},
   "outputs": [
    {
     "name": "stdout",
     "output_type": "stream",
     "text": [
      "1300 1\n",
      "1350 0\n",
      "1400 2\n",
      "1450 1\n",
      "1500 9\n",
      "1550 1\n",
      "1600 9\n",
      "1650 11\n",
      "1700 12\n",
      "1750 43\n",
      "1800 82\n",
      "1850 83\n",
      "1900 77\n",
      "1950 50\n",
      "2000 8\n"
     ]
    }
   ],
   "source": [
    "for bucket_year, chapters in year_to_chapters.items():\n",
    "    print(bucket_year, len(chapters))"
   ]
  },
  {
   "cell_type": "code",
   "execution_count": 9,
   "id": "indirect-dairy",
   "metadata": {},
   "outputs": [],
   "source": [
    "os.makedirs(years_directory + 'all_textbooks', exist_ok=True)\n",
    "for bucket_year, chapters in year_to_chapters.items():\n",
    "    file = open(years_directory + 'all_textbooks/' + str(bucket_year) + \".txt\", \"w\")\n",
    "    lines = []\n",
    "    text = '\\n'.join(chapters)\n",
    "    \n",
    "    for sent in get_sentences(text):\n",
    "        if len(sent) >= 10:\n",
    "            lines.extend([sent + '.\\n'])\n",
    "        \n",
    "    file.writelines(lines)\n",
    "    file.close()"
   ]
  }
 ],
 "metadata": {
  "kernelspec": {
   "display_name": "Python 3",
   "language": "python",
   "name": "python3"
  },
  "language_info": {
   "codemirror_mode": {
    "name": "ipython",
    "version": 3
   },
   "file_extension": ".py",
   "mimetype": "text/x-python",
   "name": "python",
   "nbconvert_exporter": "python",
   "pygments_lexer": "ipython3",
   "version": "3.7.5"
  }
 },
 "nbformat": 4,
 "nbformat_minor": 5
}
